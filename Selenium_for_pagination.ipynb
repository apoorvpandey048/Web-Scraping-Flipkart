{
 "cells": [
  {
   "cell_type": "markdown",
   "id": "32b5692d-d24f-4776-9a01-bf0c21a11c80",
   "metadata": {},
   "source": [
    "<H3>Selenium for handling the page change request</H3>"
   ]
  },
  {
   "cell_type": "markdown",
   "id": "459d4e90-6092-4ce7-81ad-fff266d37e6a",
   "metadata": {},
   "source": [
    "<p>\n",
    "The reason we use selenium is to save the pages that had placards of bikes and scooties, there prices and some basic info displayed<br>\n",
    "for this project we only wanted to scrape basic info, without any proxy assistance.\n",
    "</p>"
   ]
  },
  {
   "cell_type": "code",
   "execution_count": 2,
   "id": "5f5edb59-2add-40d8-bc2d-dcc486d3b91d",
   "metadata": {},
   "outputs": [
    {
     "name": "stdout",
     "output_type": "stream",
     "text": [
      "Visiting page 1: https://www.flipkart.com/7dk/0aj/~cs-2v541c1zer/pr?sid=7dk%2C0aj&collection-tab-name=Petrol+Bikes&pageCriteria=default&param=3459835bb&ctx=eyJjYXJkQ29udGV4dCI6eyJhdHRyaWJ1dGVzIjp7InRpdGxlIjp7Im11bHRpVmFsdWVkQXR0cmlidXRlIjp7ImtleSI6InRpdGxlIiwiaW5mZXJlbmNlVHlwZSI6IlRJVExFIiwidmFsdWVzIjpbIkJpa2VzICYgU2Nvb3RlcnMiXSwidmFsdWVUeXBlIjoiTVVMVElfVkFMVUVEIn19fX19&wid=1.productCard.PMU_V2_1&page=1\n",
      "Page 1 saved successfully!\n",
      "Visiting page 2: https://www.flipkart.com/7dk/0aj/~cs-2v541c1zer/pr?sid=7dk%2C0aj&collection-tab-name=Petrol+Bikes&pageCriteria=default&param=3459835bb&ctx=eyJjYXJkQ29udGV4dCI6eyJhdHRyaWJ1dGVzIjp7InRpdGxlIjp7Im11bHRpVmFsdWVkQXR0cmlidXRlIjp7ImtleSI6InRpdGxlIiwiaW5mZXJlbmNlVHlwZSI6IlRJVExFIiwidmFsdWVzIjpbIkJpa2VzICYgU2Nvb3RlcnMiXSwidmFsdWVUeXBlIjoiTVVMVElfVkFMVUVEIn19fX19&wid=1.productCard.PMU_V2_1&page=2\n",
      "Page 2 saved successfully!\n"
     ]
    }
   ],
   "source": [
    "from selenium import webdriver\n",
    "from selenium.webdriver.chrome.service import Service\n",
    "from selenium.webdriver.common.by import By\n",
    "import time\n",
    "\n",
    "# Initialize Selenium WebDriver\n",
    "\n",
    "driver = webdriver.Chrome()\n",
    "\n",
    "# Base URL structure\n",
    "base_url = \"https://www.flipkart.com/7dk/0aj/~cs-2v541c1zer/pr?sid=7dk%2C0aj&collection-tab-name=Petrol+Bikes&pageCriteria=default&param=3459835bb&ctx=eyJjYXJkQ29udGV4dCI6eyJhdHRyaWJ1dGVzIjp7InRpdGxlIjp7Im11bHRpVmFsdWVkQXR0cmlidXRlIjp7ImtleSI6InRpdGxlIiwiaW5mZXJlbmNlVHlwZSI6IlRJVExFIiwidmFsdWVzIjpbIkJpa2VzICYgU2Nvb3RlcnMiXSwidmFsdWVUeXBlIjoiTVVMVElfVkFMVUVEIn19fX19&wid=1.productCard.PMU_V2_1&page={}\"\n",
    "\n",
    "# Specify how many pages to scrape\n",
    "num_pages = 2  # Change to the number of pages you want to scrape\n",
    "\n",
    "# Loop through pages\n",
    "for page in range(1, num_pages + 1):\n",
    "    url = base_url.format(page)  # Use f-string to insert page number dynamically\n",
    "    print(f\"Visiting page {page}: {url}\")\n",
    "    \n",
    "    # Visit the page\n",
    "    driver.get(url)\n",
    "    \n",
    "    # Wait for the page to load (adjust as needed)\n",
    "    time.sleep(20)\n",
    "    \n",
    "    # Save the page content to an HTML file\n",
    "    with open(f\"flipkart_page_{page}.html\", \"w\", encoding=\"utf-8\") as file:\n",
    "        file.write(driver.page_source)\n",
    "    print(f\"Page {page} saved successfully!\")\n",
    "\n",
    "# Close the browser\n",
    "driver.quit()\n"
   ]
  },
  {
   "cell_type": "markdown",
   "id": "d785b94b-736d-4fcc-865f-89d48535ecc6",
   "metadata": {},
   "source": [
    "<h3>Fuck around find out...</h3>"
   ]
  },
  {
   "cell_type": "markdown",
   "id": "b733bf70-33fd-4e60-881b-f6a13019b428",
   "metadata": {},
   "source": [
    "<p>\n",
    "    Now that we have saved html files of both the pages we intend to scrape, we can safely take as many attempts as neededand nothing will mark us as a bot, or try to block us, as <u style=\"color:red;\">whatever we are doing is being done locally on our machine.</u> There is no internet involved here. See the python notebook for <font style=\"color:royalblue;\">page 1 exploration</font>.\n",
    "</p>"
   ]
  },
  {
   "cell_type": "code",
   "execution_count": null,
   "id": "6ba3dd84-1ebb-4905-8c7e-8bf8e49687b8",
   "metadata": {},
   "outputs": [],
   "source": []
  }
 ],
 "metadata": {
  "kernelspec": {
   "display_name": "Python 3 (ipykernel)",
   "language": "python",
   "name": "python3"
  },
  "language_info": {
   "codemirror_mode": {
    "name": "ipython",
    "version": 3
   },
   "file_extension": ".py",
   "mimetype": "text/x-python",
   "name": "python",
   "nbconvert_exporter": "python",
   "pygments_lexer": "ipython3",
   "version": "3.8.10"
  }
 },
 "nbformat": 4,
 "nbformat_minor": 5
}
